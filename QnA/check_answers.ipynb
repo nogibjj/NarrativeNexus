{
 "cells": [
  {
   "cell_type": "code",
   "execution_count": 1,
   "metadata": {},
   "outputs": [],
   "source": [
    "import json\n",
    "\n",
    "data_path = \"../data/QnA_data/\"\n",
    "\n",
    "filename = \"QnA_summary_zho_Territorial_disputes_in_the_South_China_Sea_100.json\"\n",
    "# filename = \"QnA_summary_zho_Gaza_100.json\"\n",
    "# filename = \"QnA_summary_hin_India_election_2024_100.json\"\n",
    "with open(data_path+filename, 'r', encoding='utf-8') as f:\n",
    "    articles = json.load(f)"
   ]
  },
  {
   "cell_type": "code",
   "execution_count": 2,
   "metadata": {},
   "outputs": [
    {
     "name": "stdout",
     "output_type": "stream",
     "text": [
      "done\n"
     ]
    }
   ],
   "source": [
    "for article in articles:\n",
    "    assert(len(article['answers'])==80)\n",
    "\n",
    "print(\"done\")"
   ]
  }
 ],
 "metadata": {
  "kernelspec": {
   "display_name": "venv",
   "language": "python",
   "name": "python3"
  },
  "language_info": {
   "codemirror_mode": {
    "name": "ipython",
    "version": 3
   },
   "file_extension": ".py",
   "mimetype": "text/x-python",
   "name": "python",
   "nbconvert_exporter": "python",
   "pygments_lexer": "ipython3",
   "version": "3.11.9"
  }
 },
 "nbformat": 4,
 "nbformat_minor": 2
}
