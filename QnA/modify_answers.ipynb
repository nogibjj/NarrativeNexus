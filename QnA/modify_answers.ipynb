{
 "cells": [
  {
   "cell_type": "code",
   "execution_count": 1,
   "metadata": {},
   "outputs": [],
   "source": [
    "import json, os\n",
    "from openai import OpenAI\n",
    "\n",
    "data_path = \"../data/QnA_data/\"\n",
    "# filename = \"QnA_test.json\"\n",
    "# filename = \"QnA_summary_hin_India_election_2024_100.json\"\n",
    "filename = \"auto_QnA_summary_zho_Territorial_disputes_in_the_South_China_Sea_100.json\"\n",
    "source_filename = data_path + filename\n",
    "des_filename = source_filename\n",
    "\n",
    "\n",
    "# Load articles\n",
    "with open(source_filename, 'r', encoding='utf-8') as f:\n",
    "    articles = json.load(f)\n",
    "\n",
    "# Load questions\n",
    "with open(data_path+'formated_output_questions.json', 'r', encoding='utf-8') as f:\n",
    "    questions = json.load(f)\n",
    "\n",
    "# Set API key\n",
    "client = OpenAI(\n",
    "    # This is the default and can be omitted\n",
    "    api_key=os.getenv(\"OPENAI_API_KEY\"),\n",
    ")\n",
    "\n"
   ]
  },
  {
   "cell_type": "code",
   "execution_count": 2,
   "metadata": {},
   "outputs": [],
   "source": [
    "def get_answers(article, questions, model):\n",
    "    article_title = article.get('title')\n",
    "    article_content = article.get('body')\n",
    "    print(f\"Proceeding article {article_title}\")\n",
    "    # answers = {}\n",
    "    # for q_id, question in questions.items():\n",
    "    pre = \"Read the following article, and answer ALL the questions below. \\\n",
    "            Only CPATILIZED LETTERS ACCETPETED for the correct answer of each question \\\n",
    "                and ONLY return a string of question numbers and answers divided by semi-colon in order. \\\n",
    "                    Such as a string of 1A;2B;3C;4D; .\\n\\n\"\n",
    "    \n",
    "    \n",
    "    prompt = pre + f\"Article Content:\\n{article_content}\\n\\n Questions: {questions}\\n\"\n",
    "    try:\n",
    "        response = client.chat.completions.create(\n",
    "            model=model,\n",
    "            messages=[\n",
    "                {\"role\": \"user\", \"content\": prompt}\n",
    "            ],\n",
    "            temperature=0\n",
    "        )\n",
    "        # content = response.choices[0].message.content\n",
    "        # answers[q_id] = content\n",
    "    except Exception as e:\n",
    "        print(f\"Error: {e}\")\n",
    "        # answers[q_id] = \"Sorry, error from GPT.\"\n",
    "    return response"
   ]
  },
  {
   "cell_type": "code",
   "execution_count": 3,
   "metadata": {},
   "outputs": [],
   "source": [
    "def convert_string_to_dict(answer_string):\n",
    "    if answer_string == \"\":\n",
    "        return {}\n",
    "    if answer_string[-1] == ';':\n",
    "        answer_string = answer_string[:-1]\n",
    "    return {item[:-1]: item[-1] for item in answer_string.split(';')}\n",
    "\n"
   ]
  },
  {
   "cell_type": "code",
   "execution_count": 4,
   "metadata": {},
   "outputs": [
    {
     "name": "stdout",
     "output_type": "stream",
     "text": [
      "22\n",
      "{'1': 'B', '2': 'E', '3': 'E', '4': 'A', '5': 'A', '6': 'E', '7': 'D', '8': 'A', '9': 'C', '16': 'C', '39': 'B', '41': 'B', '45': 'A', '46': 'E', '48': 'B', '51': 'A', '53': 'B', '76': 'C', '98': 'B', '105': 'B', '113': 'B', '115': 'A'}\n"
     ]
    }
   ],
   "source": [
    "index = 90\n",
    "article = articles[index]\n",
    "print(len(article['answers']))\n",
    "print(article['answers'])\n"
   ]
  },
  {
   "cell_type": "code",
   "execution_count": 5,
   "metadata": {},
   "outputs": [
    {
     "name": "stdout",
     "output_type": "stream",
     "text": [
      "{'uri': '8156537816', 'lang': 'zho', 'isDuplicate': False, 'date': '2024-06-01', 'time': '11:45:49', 'dateTime': '2024-06-01T11:45:49Z', 'dateTimePub': '2024-06-01T11:44:39Z', 'dataType': 'news', 'sim': 0.6392157077789307, 'url': 'https://mil.sohu.com/a/783087241_121450895?scm=thor.279_13-101000-0_922.0-0.10095.a2_5X162X1532', 'title': '我中将表态\"台独\"等于战争，奥斯汀对我防长承诺，会接紧急电话_美国_台湾_中美', 'body': '据环球网报道，在新加坡出席香格里拉对话会期间，景建峰空军中将针对美防长奥斯汀的大会发言，全面阐释了中方在台湾问题和南海问题上的态度和立场。景建峰就台湾问题表示，台湾自古以来就属于中国，《开罗宣言》和《波茨坦公告》等具有国际法律效力的文件，都明确了中国对台湾的主权，这也是战后国际秩序的重要组成部分。\\n\\n景建峰还点名赖清德，称其为数典忘祖之辈，是破坏台海现状的罪魁祸首，也是地区稳定的最大危害。而解放军组织军事反制行动，就是要打击\"台独\"嚣张气焰，威慑和拒止外部势力干涉。景建峰进一步表示，解放军决不允许台湾从中国分裂出去，并强调\"台独\"等于战争，解放军练兵备战决不停歇，打\"独\"促统决不停步，挫败外来干涉决不手软。\\n\\n相较于以前中方就台湾问题的表态，景建峰的说法无疑更为明确，传递给美方的信号也更加明确。这在某种程度上也显示出，中美防长香会期间的会晤，并未达成双方满意的结果。中国国防部会后发布的消息，强调希望美国言行一致，与中国相向而行，也说明迄今为止在中方眼中，美国在台湾问题等地区事务上，仍没有完全落实美国总统拜登的对台承诺。\\n\\n事实上，美方的新闻稿也没有掩饰中美防长对话中，双方在台湾和南海等问题上的巨大分歧。美方称奥斯汀在会晤中，对解放军近期在台海的\"挑衅性\"行动表达了关切，重申中国大陆不应以台湾的政治交接，即正常、例行的民主进程作为借口，采取所谓的\"胁迫性措施\"。这话表达的意思很明显，一个是不让解放军进行类似环台军演的军事行动，一个则是不许中国大陆对赖当局采取措施，遏制其公然\"谋独\"的行径。\\n\\n景建峰对上述两点作出的明确表态，则显示出中方坚定立场不受美方影响，这也就意味如果赖清德继续\"谋独\"挑衅，中美之间的分歧只会更大，甚至不排除直接冲突。因为美国总统拜登已经不止一次公开表示，为了保护国家、盟友和核心利益，他始终愿意在必要时使用武力。\\n\\n当然，中美防长此次香会会晤，也不是没有积极成果，从会晤形势上看，至少说明中美两军高层交往，正朝稳定轨道推进，而非过去那样陷入僵局。奥斯汀也在香会期间，积极评价中美两军高层当前的沟通，称中美之间的一个关键在于沟通，只要保持沟通就能辨识棘手的问题，美国希望设置护栏，确保没有任何误解和误判。\\n\\n奥斯汀还提到，他已在会晤中告诉董军防长，会接听因紧急事件而打来的电话，并且希望董军防长也这么做。奥斯汀认为，建立紧急沟通机制，有助于推动地区实现更高层面的稳定和安全。除此之外，奥斯汀也谈到了中美关系议题，但依然是美国政客极其虚伪的那一套，称美国与中国的关系是基于竞争，美方不寻求一个对抗性的关系。\\n\\n不过，考虑到美国内部关系的复杂性，奥斯汀的言论也有一定的可信度，毕竟美国政府和美国军方，确实在某些议题上，存在主张不一样的问题。美国军方将中美关系定义为\"竞争\"，而非拜登政府定义的\"敌人\"，也显示出了中美军方沟通的必要性，这将有效管控中美分歧升级。返回搜狐，查看更多', 'source': {'uri': 'mil.sohu.com', 'dataType': 'news', 'title': '搜狐', 'location': {'type': 'country', 'label': {'eng': 'China'}}, 'locationValidated': False}, 'authors': [], 'image': 'https://q4.itc.cn/images01/20240601/49801174cac047cea902d75b4ec3c970.png', 'eventUri': 'zho-1626829', 'sentiment': None, 'wgt': 454938349, 'relevance': 51, 'summary': 'During the Shangri-La Dialogue in Singapore, Chinese Air Force Lieutenant General Jing Jianfeng articulated China\\'s firm stance on Taiwan and the South China Sea in response to U.S. Defense Secretary Lloyd Austin\\'s speech. Jing emphasized that Taiwan has always been part of China, citing international legal documents like the Cairo Declaration and Potsdam Proclamation. He criticized Taiwanese leader Lai Ching-te for destabilizing the region and reiterated that \"Taiwan independence\" equates to war, with the Chinese military prepared to counter any separatist actions.\\n\\nThe meeting between Chinese and U.S. defense officials did not yield satisfactory results, highlighting significant differences, particularly on Taiwan and the South China Sea. Austin expressed concerns over China\\'s recent military actions near Taiwan and reiterated that normal democratic processes in Taiwan should not be met with coercion from China.\\n\\nDespite the tensions, the dialogue marked a step towards stabilizing high-level military communications between the two nations. Austin emphasized the importance of maintaining open lines of communication to prevent misunderstandings and miscalculations, and he committed to answering emergency calls, urging his Chinese counterpart to do the same. This development suggests a cautious but positive move towards managing U.S.-China military relations amidst ongoing competition.'}\n"
     ]
    }
   ],
   "source": [
    "if 'answers' in article:\n",
    "    del article['answers']\n",
    "\n",
    "print(article)"
   ]
  },
  {
   "cell_type": "code",
   "execution_count": 6,
   "metadata": {},
   "outputs": [
    {
     "name": "stdout",
     "output_type": "stream",
     "text": [
      "Proceeding article 我中将表态\"台独\"等于战争，奥斯汀对我防长承诺，会接紧急电话_美国_台湾_中美\n",
      "1B;2E;3E;4A;5A;6E;7D;8A;9C;10E;11E;12E;13E;14E;15E;16A;17E;18E;19E;20E;21E;22E;23A;24E;25E;26B;27E;28E;29E;30E;31E;32E;33E;34E;35E;36D;37E;38E;39B;40E;41B;42C;43E;44E;45E;46E;47E;48B;49E;50E;51A;52E;53B;54E;55E;56B;57E;58E;59E;60E;61E;62E;63E;64E;65E;66E;67E;68B;69E;70E;71E;72E;73A;74E;75E;76C;77E;78E;79E;80E;81E;82E;83E;84E;85E;86E;87E;88E;89A;90E;91E;92B;93E;94E;95B;96B;97E;98B;99E;100C;101B;102E;103E;104A;105B;106B;107B;108B;109E;110A;111A;112A;113B;114A;115A;116A;117E;118A;119A;\n",
      "119\n"
     ]
    }
   ],
   "source": [
    "answers = get_answers(article, questions, model=\"gpt-4-turbo\")\n",
    "pure_answers = answers.choices[0].message.content\n",
    "print(pure_answers)\n",
    "\n",
    "# convert string to dictionary 1A;2B;3C;44D to {'1': 'A', '2': 'B', '3': 'C', '44': 'D'}\n",
    "processed_answers = convert_string_to_dict(pure_answers)\n",
    "article['answers'] = processed_answers\n",
    "print(len(article['answers']))\n"
   ]
  },
  {
   "cell_type": "code",
   "execution_count": 7,
   "metadata": {},
   "outputs": [
    {
     "name": "stdout",
     "output_type": "stream",
     "text": [
      "{'1': 'B', '2': 'E', '3': 'E', '4': 'A', '5': 'A', '6': 'E', '7': 'D', '8': 'A', '9': 'C', '10': 'E', '11': 'E', '12': 'E', '13': 'E', '14': 'E', '15': 'E', '16': 'A', '17': 'E', '18': 'E', '19': 'E', '20': 'E', '21': 'E', '22': 'E', '23': 'A', '24': 'E', '25': 'E', '26': 'B', '27': 'E', '28': 'E', '29': 'E', '30': 'E', '31': 'E', '32': 'E', '33': 'E', '34': 'E', '35': 'E', '36': 'D', '37': 'E', '38': 'E', '39': 'B', '40': 'E', '41': 'B', '42': 'C', '43': 'E', '44': 'E', '45': 'E', '46': 'E', '47': 'E', '48': 'B', '49': 'E', '50': 'E', '51': 'A', '52': 'E', '53': 'B', '54': 'E', '55': 'E', '56': 'B', '57': 'E', '58': 'E', '59': 'E', '60': 'E', '61': 'E', '62': 'E', '63': 'E', '64': 'E', '65': 'E', '66': 'E', '67': 'E', '68': 'B', '69': 'E', '70': 'E', '71': 'E', '72': 'E', '73': 'A', '74': 'E', '75': 'E', '76': 'C', '77': 'E', '78': 'E', '79': 'E', '80': 'E', '81': 'E', '82': 'E', '83': 'E', '84': 'E', '85': 'E', '86': 'E', '87': 'E', '88': 'E', '89': 'A', '90': 'E', '91': 'E', '92': 'B', '93': 'E', '94': 'E', '95': 'B', '96': 'B', '97': 'E', '98': 'B', '99': 'E', '100': 'C', '101': 'B', '102': 'E', '103': 'E', '104': 'A', '105': 'B', '106': 'B', '107': 'B', '108': 'B', '109': 'E', '110': 'A', '111': 'A', '112': 'A', '113': 'B', '114': 'A', '115': 'A', '116': 'A', '117': 'E', '118': 'A', '119': 'A'}\n"
     ]
    }
   ],
   "source": [
    "print(articles[index]['answers'])"
   ]
  },
  {
   "cell_type": "code",
   "execution_count": 8,
   "metadata": {},
   "outputs": [],
   "source": [
    "# Save results to a JSON file\n",
    "with open(des_filename, 'w', encoding='utf-8') as f:\n",
    "    json.dump(articles, f, ensure_ascii=False, indent=4)"
   ]
  }
 ],
 "metadata": {
  "kernelspec": {
   "display_name": "venv",
   "language": "python",
   "name": "python3"
  },
  "language_info": {
   "codemirror_mode": {
    "name": "ipython",
    "version": 3
   },
   "file_extension": ".py",
   "mimetype": "text/x-python",
   "name": "python",
   "nbconvert_exporter": "python",
   "pygments_lexer": "ipython3",
   "version": "3.11.9"
  }
 },
 "nbformat": 4,
 "nbformat_minor": 2
}
