{
 "cells": [
  {
   "cell_type": "code",
   "execution_count": 2,
   "metadata": {},
   "outputs": [],
   "source": [
    "import json, os\n",
    "from openai import OpenAI\n",
    "\n",
    "data_path = \"../data/QnA_data/\"\n",
    "# filename = \"QnA_test.json\"\n",
    "filename = \"QnA_summary_hin_India_election_2024_100.json\"\n",
    "source_filename = data_path + filename\n",
    "des_filename = source_filename\n",
    "\n",
    "\n",
    "# Load articles\n",
    "with open(source_filename, 'r', encoding='utf-8') as f:\n",
    "    articles = json.load(f)\n",
    "\n",
    "# Load questions\n",
    "with open(data_path+'questions.json', 'r', encoding='utf-8') as f:\n",
    "    questions = json.load(f)\n",
    "\n",
    "# Set API key\n",
    "client = OpenAI(\n",
    "    # This is the default and can be omitted\n",
    "    api_key=os.getenv(\"OPENAI_API_KEY\"),\n",
    ")\n",
    "\n"
   ]
  },
  {
   "cell_type": "code",
   "execution_count": 26,
   "metadata": {},
   "outputs": [],
   "source": [
    "def get_answers(article, questions, model):\n",
    "    article_title = article.get('title')\n",
    "    article_content = article.get('body')\n",
    "    print(f\"Proceeding article {article_title}\")\n",
    "    # answers = {}\n",
    "    # for q_id, question in questions.items():\n",
    "    pre = \"Read the following article in Hindi, and answer ALL the 80 questions below. \\\n",
    "        Do not leave any question unanswered, even if the questions are not related to articles. \\\n",
    "            Only CPATILIZED LETTERS ACCETPETED for the correct answer of each question \\\n",
    "                and ONLY return a string of question numbers and answers divided by semi-colon in order. \\\n",
    "                    Such as a string of 1A;2B;3C;4D; .\\n\\n\"\n",
    "    \n",
    "    \n",
    "    prompt = pre + f\"Article Content:\\n{article_content}\\n\\n Questions: {questions}\\n\"\n",
    "    try:\n",
    "        response = client.chat.completions.create(\n",
    "            model=model,\n",
    "            messages=[\n",
    "                {\"role\": \"user\", \"content\": prompt}\n",
    "            ],\n",
    "            temperature=0\n",
    "        )\n",
    "        # content = response.choices[0].message.content\n",
    "        # answers[q_id] = content\n",
    "    except Exception as e:\n",
    "        print(f\"Error: {e}\")\n",
    "        # answers[q_id] = \"Sorry, error from GPT.\"\n",
    "    return response"
   ]
  },
  {
   "cell_type": "code",
   "execution_count": 27,
   "metadata": {},
   "outputs": [],
   "source": [
    "def convert_string_to_dict(answer_string):\n",
    "    if answer_string == \"\":\n",
    "        return {}\n",
    "    if answer_string[-1] == ';':\n",
    "        answer_string = answer_string[:-1]\n",
    "    return {item[:-1]: item[-1] for item in answer_string.split(';')}\n",
    "\n"
   ]
  },
  {
   "cell_type": "code",
   "execution_count": 28,
   "metadata": {},
   "outputs": [
    {
     "name": "stdout",
     "output_type": "stream",
     "text": [
      "{'38': 'A', '39': 'A', '40': 'A', '41': 'A', '42': 'D', '43': 'A', '44': 'B', '45': 'D', '46': 'C', '47': 'A', '48': 'A', '49': 'B', '50': 'D', '51': 'A', '52': 'D', '53': 'D', '54': 'D', '55': 'C', '56': 'D', '57': 'A', '58': 'E', '59': 'D', '60': 'B', '61': 'B', '62': 'B', '63': 'B', '64': 'B', '65': 'B', '66': 'B', '67': 'B', '68': 'B', '69': 'B', '70': 'B', '71': 'B', '72': 'B', '73': 'B', '74': 'B', '75': 'B', '76': 'B', '77': 'B', '78': 'B', '79': 'B', '80': 'E'}\n"
     ]
    }
   ],
   "source": [
    "index = 95\n",
    "article = articles[index]\n",
    "print(article['answers'])\n"
   ]
  },
  {
   "cell_type": "code",
   "execution_count": 29,
   "metadata": {},
   "outputs": [
    {
     "name": "stdout",
     "output_type": "stream",
     "text": [
      "{'uri': '2024-06-378099828', 'lang': 'hin', 'isDuplicate': False, 'date': '2024-06-04', 'time': '08:21:26', 'dateTime': '2024-06-04T08:21:26Z', 'dateTimePub': '2024-06-04T08:21:15Z', 'dataType': 'news', 'sim': 0.47843137383461, 'url': 'https://ndtv.in/bollywood/lok-sabha-election-results-2024-kangana-ranaut-and-arun-govil-are-leading-in-the-election-fray-for-the-first-time-5813700', 'title': 'Lok Sabha Election Results 2024: पहली बार चुनाव मैदान में उतरे कंगना रनौत और अरुण गोविल आगे', 'body': \"कंगना रनौत और अरुण गोविल के लोकसभा परिणाम\\n\\nनई दिल्ली:\\n\\nLok Sabha Election Results 2024: हिमाचल प्रदेश के मंडी लोकसभा क्षेत्र से अभिनेत्री कंगना रनौत भाजपा की टिकट पर सांसद बनने के करीब हैं. निर्वाचन आयोग के आंकड़ों के अनुसार वह कांग्रेस प्रत्याशी विक्रमादित्य सिंह से 57,000 वोट से आगे हैं. दोपहर 12.30 बजे तक के आयोग के आंकड़ों के अनुसार 'रामायण' के राम यानि के अभिनेता अरुण गोविल भी उत्तर प्रदेश के मेरठ में निकटतम प्रतिद्वंद्वी से 2753 वोट से आगे हैं. प्रसिद्ध अभिनेता हेमा मालिनी मथुरा से तीसरी बार लोकसभा में पहुंचने की तैयारी कर रही हैं और ताजा आंकड़ों के अनुसार वह कांग्रेस प्रत्याशी मुकेश धनगर से 1.7 लाख वोट के अंतर से आगे हैं.\\n\\nकेरल के त्रिशूर से भाजपा उम्मीदवार और अभिनेता सुरेश गोपी अपने निकटतम प्रतिद्वंद्वी से 63,000 वोट से अधिक अंतर से आगे हैं. अभिनेता और पश्चिम बंगाल की आसनसोल सीट से तृणमूल कांग्रेस उम्मीदवार शत्रुघ्न सिन्हा भाजपा के एसएस अहलूवालिया से 37,000 मतों के अंतर से आगे चल रहे हैं. इनके अलावा फिल्मी हस्तियों में शामिल भाजपा उम्मीदवार मनोज तिवारी उत्तर पूर्वी दिल्ली से तथा रवि किशन उत्तर प्रदेश की गोरखपुर सीट से आगे हैं. पश्चिम बंगाल के हुगली से भाजपा प्रत्याशी लॉकेट चटर्जी इस समय पीछे हैं.\\n\\nवीडियो: वो फिल्म जिसके Producer बने 5 लाख किसान\\n\\n(इस खबर को एनडीटीवी टीम ने संपादित नहीं किया है. यह सिंडीकेट फीड से सीधे प्रकाशित की गई है।)\\n\\nपूरी स्टोरी पढ़ें\\n\\nNDTV.in पर ताज़ातरीन ख़बरों को ट्रैक करें, व देश के कोने-कोने से और दुनियाभर से न्यूज़ अपडेट पाएं\\n\\nफॉलो करे:\\n\\nLok Sabha Election Results 2024, Election Results, Election Results 2024, Election Results 2024 Live, India Election Results 2024, General Election Results 2024, India General Election Results, Lok Sabha Polls Results 2024, 2024 Election Results, Election Results 2024 India\", 'source': {'uri': 'ndtv.in', 'dataType': 'news', 'title': 'ndtv.in', 'location': {'type': 'country', 'label': {'eng': 'India'}}, 'locationValidated': False}, 'authors': [], 'image': 'https://c.ndtvimg.com/2024-05/i7vieaj8_kangana-ranaut_640x480_30_May_24.jpg?ver-20240530-06', 'eventUri': 'hin-366688', 'sentiment': None, 'wgt': 455185286, 'relevance': 15, 'summary': 'In the 2024 Lok Sabha elections, several celebrities are leading in their respective constituencies. Actress Kangana Ranaut, contesting from Mandi, Himachal Pradesh on a BJP ticket, is ahead of Congress candidate Vikramaditya Singh by 57,000 votes. Actor Arun Govil, known for his role as Ram in the TV series \"Ramayan,\" is leading in Meerut, Uttar Pradesh by 2,753 votes. Hema Malini is set to win her third term from Mathura, leading by 1.7 lakh votes against Congress\\'s Mukesh Dhangar. In Kerala\\'s Thrissur, BJP candidate and actor Suresh Gopi is ahead by over 63,000 votes. TMC candidate Shatrughan Sinha is leading in Asansol, West Bengal by 37,000 votes. BJP candidates Manoj Tiwari and Ravi Kishan are leading in North East Delhi and Gorakhpur, respectively, while BJP\\'s Locket Chatterjee is trailing in Hooghly, West Bengal.'}\n"
     ]
    }
   ],
   "source": [
    "if 'answers' in article:\n",
    "    del article['answers']\n",
    "\n",
    "print(article)"
   ]
  },
  {
   "cell_type": "code",
   "execution_count": 30,
   "metadata": {},
   "outputs": [
    {
     "name": "stdout",
     "output_type": "stream",
     "text": [
      "Proceeding article Lok Sabha Election Results 2024: पहली बार चुनाव मैदान में उतरे कंगना रनौत और अरुण गोविल आगे\n",
      "1E;2E;3E;4E;5E;6E;7E;8E;9E;10E;11E;12E;13E;14E;15B;16B;17B;18B;19B;20B;21B;22B;23B;24B;25B;26B;27B;28B;29B;30B;31B;32B;33B;34B;35B;36B;37B;38A;39A;40A;41A;42D;43A;44B;45D;46C;47A;48D;49D;50D;51A;52D;53D;54A;55C;56D;57A;58E;59D;60B;61B;62B;63B;64B;65B;66B;67B;68B;69B;70B;71B;72B;73B;74B;75B;76B;77B;78B;79B;80E;\n"
     ]
    }
   ],
   "source": [
    "answers = get_answers(article, questions, model=\"gpt-4-turbo\")\n",
    "pure_answers = answers.choices[0].message.content\n",
    "print(pure_answers)\n",
    "\n",
    "# convert string to dictionary 1A;2B;3C;44D to {'1': 'A', '2': 'B', '3': 'C', '44': 'D'}\n",
    "processed_answers = convert_string_to_dict(pure_answers)\n",
    "article['answers'] = processed_answers\n"
   ]
  },
  {
   "cell_type": "code",
   "execution_count": 31,
   "metadata": {},
   "outputs": [
    {
     "name": "stdout",
     "output_type": "stream",
     "text": [
      "{'1': 'E', '2': 'E', '3': 'E', '4': 'E', '5': 'E', '6': 'E', '7': 'E', '8': 'E', '9': 'E', '10': 'E', '11': 'E', '12': 'E', '13': 'E', '14': 'E', '15': 'B', '16': 'B', '17': 'B', '18': 'B', '19': 'B', '20': 'B', '21': 'B', '22': 'B', '23': 'B', '24': 'B', '25': 'B', '26': 'B', '27': 'B', '28': 'B', '29': 'B', '30': 'B', '31': 'B', '32': 'B', '33': 'B', '34': 'B', '35': 'B', '36': 'B', '37': 'B', '38': 'A', '39': 'A', '40': 'A', '41': 'A', '42': 'D', '43': 'A', '44': 'B', '45': 'D', '46': 'C', '47': 'A', '48': 'D', '49': 'D', '50': 'D', '51': 'A', '52': 'D', '53': 'D', '54': 'A', '55': 'C', '56': 'D', '57': 'A', '58': 'E', '59': 'D', '60': 'B', '61': 'B', '62': 'B', '63': 'B', '64': 'B', '65': 'B', '66': 'B', '67': 'B', '68': 'B', '69': 'B', '70': 'B', '71': 'B', '72': 'B', '73': 'B', '74': 'B', '75': 'B', '76': 'B', '77': 'B', '78': 'B', '79': 'B', '80': 'E'}\n"
     ]
    }
   ],
   "source": [
    "print(articles[index]['answers'])"
   ]
  },
  {
   "cell_type": "code",
   "execution_count": 32,
   "metadata": {},
   "outputs": [],
   "source": [
    "# Save results to a JSON file\n",
    "with open(des_filename, 'w', encoding='utf-8') as f:\n",
    "    json.dump(articles, f, ensure_ascii=False, indent=4)"
   ]
  }
 ],
 "metadata": {
  "kernelspec": {
   "display_name": "venv",
   "language": "python",
   "name": "python3"
  },
  "language_info": {
   "codemirror_mode": {
    "name": "ipython",
    "version": 3
   },
   "file_extension": ".py",
   "mimetype": "text/x-python",
   "name": "python",
   "nbconvert_exporter": "python",
   "pygments_lexer": "ipython3",
   "version": "3.11.9"
  }
 },
 "nbformat": 4,
 "nbformat_minor": 2
}
