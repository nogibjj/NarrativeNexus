{
 "cells": [
  {
   "cell_type": "code",
   "execution_count": 3,
   "metadata": {},
   "outputs": [],
   "source": [
    "from eventregistry import *\n",
    "import json, os, sys\n",
    "from dotenv import load_dotenv\n",
    "\n",
    "load_dotenv()  # This loads the environment variables from .env file\n",
    "api_key = os.getenv(\"EVENT_REGISTRY_API_KEY\")\n",
    "er = EventRegistry(apiKey=api_key, allowUseOfArchive=False)"
   ]
  },
  {
   "cell_type": "code",
   "execution_count": 4,
   "metadata": {},
   "outputs": [
    {
     "name": "stdout",
     "output_type": "stream",
     "text": [
      "Number of results: 143758\n"
     ]
    }
   ],
   "source": [
    "keywords = \"Gaza\"\n",
    "lang = \"eng\"\n",
    "q = QueryArticlesIter(keywords=keywords, lang=lang)\n",
    "print(\"Number of results: %d\" % q.count(er))\n",
    "\n",
    "data_path = \"../data/raw-data-process/\"\n",
    "# filename = \"test.json\"\n",
    "filename = \"eng_Gaza_100.json\"\n",
    "des_filename = data_path + filename\n",
    "\n",
    "if os.path.exists(filename):\n",
    "    os.remove(filename)\n",
    "\n",
    "articles = []\n",
    "for art in q.execQuery(\n",
    "    er,\n",
    "    sortBy=\"date\",\n",
    "    maxItems=100,\n",
    "    returnInfo=ReturnInfo(\n",
    "        sourceInfo=SourceInfoFlags(location=True),\n",
    "    ),\n",
    "):\n",
    "    articles.append(art)\n",
    "\n",
    "with open(des_filename, \"w\") as f:\n",
    "    json.dump(articles, f, ensure_ascii=False, indent=4)"
   ]
  }
 ],
 "metadata": {
  "kernelspec": {
   "display_name": "venv",
   "language": "python",
   "name": "python3"
  },
  "language_info": {
   "codemirror_mode": {
    "name": "ipython",
    "version": 3
   },
   "file_extension": ".py",
   "mimetype": "text/x-python",
   "name": "python",
   "nbconvert_exporter": "python",
   "pygments_lexer": "ipython3",
   "version": "3.11.9"
  }
 },
 "nbformat": 4,
 "nbformat_minor": 2
}
